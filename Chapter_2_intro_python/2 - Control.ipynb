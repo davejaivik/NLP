{
 "cells": [
  {
   "cell_type": "markdown",
   "metadata": {},
   "source": [
    "## Python control structures\n",
    "\n",
    "* if \n",
    "* if else\n",
    "* if elif else\n",
    "* while\n",
    "* for and its variations\n",
    "* functions\n",
    "\n",
    "There is no switch statement in Python. \n",
    "\n",
    "### if\n",
    "\n",
    "The if has optional elif and else clauses as shown below. \n",
    "\n",
    "Notice:\n",
    "* indents are used to identify code blocks\n",
    "* parenthesis not needed around condition\n",
    "* : after the condition\n",
    "\n",
    "The Python relational and Boolearn operators:\n",
    "  * == and !=\n",
    "  * <  <=  > >=\n",
    "  * and, or, not\n",
    "  \n",
    "For compound conditionals, Python uses short-circuit evaluation for efficiency. For example:  1 < 5 or 6 < 7   \n",
    "it will only evaluate 1 < 5, this allows us to write more efficient code\n"
   ]
  },
  {
   "cell_type": "code",
   "execution_count": 1,
   "metadata": {},
   "outputs": [
    {
     "name": "stdout",
     "output_type": "stream",
     "text": [
      "passed\n"
     ]
    }
   ],
   "source": [
    "grade = 66\n",
    "if grade >= 60:\n",
    "    print(\"passed\")"
   ]
  },
  {
   "cell_type": "code",
   "execution_count": 2,
   "metadata": {},
   "outputs": [
    {
     "name": "stdout",
     "output_type": "stream",
     "text": [
      "passed\n"
     ]
    }
   ],
   "source": [
    "grade = 66\n",
    "if grade >= 60:\n",
    "    print('passed')\n",
    "else:\n",
    "    print('failed')"
   ]
  },
  {
   "cell_type": "code",
   "execution_count": 3,
   "metadata": {},
   "outputs": [
    {
     "name": "stdout",
     "output_type": "stream",
     "text": [
      "passed\n"
     ]
    }
   ],
   "source": [
    "grade = 66\n",
    "if grade >= 90:\n",
    "    print('excellent')\n",
    "elif grade >= 60:\n",
    "    print('passed')\n",
    "else:\n",
    "    print('failed')"
   ]
  },
  {
   "cell_type": "markdown",
   "metadata": {},
   "source": [
    "### True and False\n",
    "\n",
    "Python has built in constants **True** and **False**. In Python, False is:\n",
    "\n",
    "* 0 for any numeric type (0.0 ...)\n",
    "* any empty object: '' [] {} etc.\n",
    "* None - a built-in constant\n",
    "\n",
    "Everything else is True.\n",
    "\n",
    "In the first example below, we could check: **if flag == True**, but this is not considered the Pythonic way to do things. \n",
    "\n",
    "Similarly in the second example, we don't check: ** if string1 == ''**"
   ]
  },
  {
   "cell_type": "code",
   "execution_count": 4,
   "metadata": {},
   "outputs": [
    {
     "name": "stdout",
     "output_type": "stream",
     "text": [
      "flag is true\n",
      "abc\n"
     ]
    }
   ],
   "source": [
    "flag = True\n",
    "if flag:\n",
    "    print('flag is true')\n",
    "\n",
    "string1 = 'abc'\n",
    "if string1:\n",
    "    print(string1)"
   ]
  },
  {
   "cell_type": "markdown",
   "metadata": {},
   "source": [
    "### Practice \n",
    "\n",
    "write an if-elif-else statement to print:\n",
    "* 'cold' if temp < 60\n",
    "* 'good' if temp < 90\n",
    "* 'hot' if temp >= 90"
   ]
  },
  {
   "cell_type": "code",
   "execution_count": 5,
   "metadata": {},
   "outputs": [
    {
     "name": "stdout",
     "output_type": "stream",
     "text": [
      "good\n"
     ]
    }
   ],
   "source": [
    "temp = 70\n",
    "if temp < 60:\n",
    "    print (\"cold\")\n",
    "elif temp < 90:\n",
    "    print (\"good\")\n",
    "else:\n",
    "    print (\"hot\")"
   ]
  },
  {
   "cell_type": "markdown",
   "metadata": {},
   "source": [
    "### while\n",
    "\n",
    "while condition:\n",
    "    statement(s)\n",
    "    \n",
    "* don't forget the :\n",
    "* no parenthesis needed around condition\n",
    "* indents indicate code block"
   ]
  },
  {
   "cell_type": "code",
   "execution_count": 6,
   "metadata": {},
   "outputs": [
    {
     "name": "stdout",
     "output_type": "stream",
     "text": [
      "3\n",
      "2\n",
      "1\n"
     ]
    }
   ],
   "source": [
    "i = 3\n",
    "while i > 0:\n",
    "    print(i)\n",
    "    i -= 1"
   ]
  },
  {
   "cell_type": "markdown",
   "metadata": {},
   "source": [
    "### Practice\n",
    "\n",
    "Write a while loop to echo user input until they enter an empty string."
   ]
  },
  {
   "cell_type": "code",
   "execution_count": 7,
   "metadata": {},
   "outputs": [
    {
     "name": "stdout",
     "output_type": "stream",
     "text": [
      "Enter anything: hello\n",
      "Enter anything: \n"
     ]
    }
   ],
   "source": [
    "user_input = 'x'\n",
    "while user_input:\n",
    "    user_input = input(\"Enter anything: \")"
   ]
  },
  {
   "cell_type": "markdown",
   "metadata": {},
   "source": [
    "### for\n",
    "\n",
    "The **for** statement is often used with lists which we haven't covered yet, so for now let's just say that a list is a group of items enclosed in square brackets. The items in a list do not have to be of the same type.\n",
    "\n",
    "The following code iterates over each element in the list. Notice again the use of indents, the :, and the lack of () in this form."
   ]
  },
  {
   "cell_type": "code",
   "execution_count": 8,
   "metadata": {},
   "outputs": [
    {
     "name": "stdout",
     "output_type": "stream",
     "text": [
      "a\n",
      "2.3\n",
      "hello\n"
     ]
    }
   ],
   "source": [
    "for item in ['a', 2.3, 'hello']:\n",
    "    print(item)"
   ]
  },
  {
   "cell_type": "markdown",
   "metadata": {},
   "source": [
    "### range()\n",
    "\n",
    "Count-controlled **for** loops are often implemented with the range() function, which has the form:\n",
    "\n",
    "range(start, stop, step)\n",
    "\n",
    "step=1 by default\n",
    "\n",
    "As seen below, the range returns numbers 1, 2, 3, 4 - it stops *before* stop.\n"
   ]
  },
  {
   "cell_type": "code",
   "execution_count": 9,
   "metadata": {},
   "outputs": [
    {
     "name": "stdout",
     "output_type": "stream",
     "text": [
      "1\n",
      "2\n",
      "3\n",
      "4\n"
     ]
    }
   ],
   "source": [
    "for i in range(1,5):\n",
    "    print(i)"
   ]
  },
  {
   "cell_type": "markdown",
   "metadata": {},
   "source": [
    "### Practice\n",
    "\n",
    "As we will soon see, you can index the characters in a string.\n",
    "\n",
    "string1 = 'hell0'\n",
    "string1[0]   # is 'h'\n",
    "\n",
    "Write a for loop to print the first character only of a list.\n",
    "Example:  list1 = ['Python','Java','C++']\n",
    "should print 'P', 'J' and 'C'"
   ]
  },
  {
   "cell_type": "code",
   "execution_count": 10,
   "metadata": {},
   "outputs": [
    {
     "name": "stdout",
     "output_type": "stream",
     "text": [
      "P\n",
      "J\n",
      "C\n"
     ]
    }
   ],
   "source": [
    "list1 = ['Python', 'Java', 'C++']\n",
    "for lang in list1:\n",
    "    print(lang[0])"
   ]
  },
  {
   "cell_type": "markdown",
   "metadata": {},
   "source": [
    "### enumerate\n",
    "\n",
    "In a **for** loop, sometimes you want indices and sometimes you want items and sometimes you want both. You can get both with enumerate()\n"
   ]
  },
  {
   "cell_type": "code",
   "execution_count": 11,
   "metadata": {},
   "outputs": [
    {
     "name": "stdout",
     "output_type": "stream",
     "text": [
      "0 apple\n",
      "1 banana\n",
      "2 orange\n"
     ]
    }
   ],
   "source": [
    "mylist = ['apple', 'banana', 'orange']\n",
    "for i, item in enumerate(mylist):\n",
    "    print(i, item)"
   ]
  },
  {
   "cell_type": "markdown",
   "metadata": {},
   "source": [
    "### functions\n",
    "\n",
    "Python functions are defined as follows:\n",
    "\n",
    "def f_name(parameters):\n",
    "    statement(s)\n",
    "    return expression\n",
    "    \n",
    "Python functions are called by name:\n",
    "\n",
    "f_name(parameters)\n",
    "\n",
    "You can have multiple returns in a program; the expression is optionaly\n",
    "\n",
    "In the example below:\n",
    "* we defined a function; the definition doesn't have to come first but should either be in the same file or imported from another file\n",
    "* the body of the function is indented consistently\n",
    "* this function has a return\n",
    "* the 'names' in the function is not the same as the 'names' in the calling code because of variable scope rules\n",
    "\n",
    "There are several scary things here:\n",
    "* the function expects *names* to be a list but we didn't check the type, this is not uncommon programming practice and a reason often cited for limitations of Python in production code\n",
    "* we assume that *names* has at least one element\n",
    "* we didn't document the function - more about that below\n",
    "\n",
    "So Python gives you a lot of power and flexibility. Enough rope to tie yourself in knots. Beware. \n",
    "\n",
    "Keep in mind the simple code examples presentend in these notebooks are designed to illustrate a point not demonstrate the best coding practices. [The Hitchhikers Guide to Python]() is a good read for learning to write *Pythonic* code."
   ]
  },
  {
   "cell_type": "code",
   "execution_count": 12,
   "metadata": {},
   "outputs": [
    {
     "name": "stdout",
     "output_type": "stream",
     "text": [
      "first name is  Bud\n"
     ]
    }
   ],
   "source": [
    "def find_first(names):\n",
    "    first = names[0]\n",
    "    for name in names[1:]:\n",
    "        if name < first:\n",
    "            first = name\n",
    "    return first\n",
    "\n",
    "names = ['Jane', 'Zelda', 'Bud']\n",
    "print('first name is ', find_first(names))\n"
   ]
  },
  {
   "cell_type": "markdown",
   "metadata": {},
   "source": [
    "Let's rewrite the above code with some better habits."
   ]
  },
  {
   "cell_type": "code",
   "execution_count": 13,
   "metadata": {},
   "outputs": [
    {
     "name": "stdout",
     "output_type": "stream",
     "text": [
      "first name is  Bud\n"
     ]
    }
   ],
   "source": [
    "def find_first(names):\n",
    "    if not type(names) == list:\n",
    "        return 'Error: \"names\" is not a list'\n",
    "    if not names:\n",
    "        return 'Error: \"names\" is an empty list'\n",
    "    first = names[0]\n",
    "    for name in names[1:]:\n",
    "        if name < first:\n",
    "            first = name\n",
    "    return first\n",
    "\n",
    "names = ['Jane', 'Zelda', 'Bud']\n",
    "print('first name is ', find_first(names))"
   ]
  },
  {
   "cell_type": "markdown",
   "metadata": {},
   "source": [
    "### docstrings\n",
    "\n",
    "It is good practice to start a function with a docstring that gives input/output information for the function and a very brief description. Styles vary but here is a common way to do this is shown below. This might be overkill for a simple function, but it outlines the best practice."
   ]
  },
  {
   "cell_type": "code",
   "execution_count": 14,
   "metadata": {
    "collapsed": true
   },
   "outputs": [],
   "source": [
    "def find_first(names):\n",
    "    \"\"\"\n",
    "    Finds the alphabetically first item in a list.\n",
    "    \n",
    "    Args:\n",
    "        names:  a list of items to be compared\n",
    "        \n",
    "    Returns:\n",
    "        the first item, alphabetically\n",
    "        \n",
    "    Example:\n",
    "        >>>find_first(['george','anne'])\n",
    "        >>>'anne'\n",
    "    \"\"\"\n",
    "    \n",
    "    if not type(names) == list:\n",
    "        return 'Error: \"names\" is not a list'\n",
    "    if not names:\n",
    "        return 'Error: \"names\" is an empty list'\n",
    "    first = names[0]\n",
    "    for name in names[1:]:\n",
    "        if name < first:\n",
    "            first = name\n",
    "    return first\n"
   ]
  },
  {
   "cell_type": "markdown",
   "metadata": {},
   "source": [
    "There are some fairly groovy tools you can experiment with for documentation including Sphinx, which converts reStructuredText markup language into several output formats.\n",
    "\n",
    "Additionally, the doctest module can read docstrings that look like command-line code \">>>\" and run them, providing some testing capability. \n",
    "See https://docs.python.org/3/library/doctest.html for more info\n"
   ]
  },
  {
   "cell_type": "markdown",
   "metadata": {},
   "source": [
    "### Practice\n",
    "\n",
    "Write a function to return the average of a list of numbers.\n",
    "Run it to see what happens."
   ]
  },
  {
   "cell_type": "code",
   "execution_count": 15,
   "metadata": {},
   "outputs": [
    {
     "data": {
      "text/plain": [
       "4.0"
      ]
     },
     "execution_count": 15,
     "metadata": {},
     "output_type": "execute_result"
    }
   ],
   "source": [
    "def avg(num_list):\n",
    "    sum = 0\n",
    "    for num in num_list:\n",
    "        sum += num\n",
    "    return sum / len(num_list)\n",
    "\n",
    "nums = [3, 4, 5]\n",
    "avg(nums)"
   ]
  },
  {
   "cell_type": "markdown",
   "metadata": {},
   "source": [
    "### More practice\n",
    "\n",
    "Write a function to check if k evenly divides n. Return a boolean. Print a message in the calling code. The % operator works as in other languages."
   ]
  },
  {
   "cell_type": "code",
   "execution_count": 20,
   "metadata": {},
   "outputs": [
    {
     "name": "stdout",
     "output_type": "stream",
     "text": [
      "4 is evenly divisible by 2\n",
      "3 is not evenly divisible by 2\n"
     ]
    }
   ],
   "source": [
    "def is_divisible(num, divisor):\n",
    "    if num % divisor:\n",
    "        return False\n",
    "    else:\n",
    "        return True\n",
    "\n",
    "if is_divisible(4, 2):\n",
    "    print(\"4 is evenly divisible by 2\")\n",
    "if not is_divisible(3, 2):\n",
    "    print(\"3 is not evenly divisible by 2\")\n"
   ]
  },
  {
   "cell_type": "markdown",
   "metadata": {
    "collapsed": true
   },
   "source": [
    "Remember that 0 is False and anything else is True. So if (num % divisor) is zero that means it is evenly divisible, so we return True, otherwise we return False. "
   ]
  },
  {
   "cell_type": "code",
   "execution_count": null,
   "metadata": {
    "collapsed": true
   },
   "outputs": [],
   "source": []
  }
 ],
 "metadata": {
  "kernelspec": {
   "display_name": "Python 3",
   "language": "python",
   "name": "python3"
  },
  "language_info": {
   "codemirror_mode": {
    "name": "ipython",
    "version": 3
   },
   "file_extension": ".py",
   "mimetype": "text/x-python",
   "name": "python",
   "nbconvert_exporter": "python",
   "pygments_lexer": "ipython3",
   "version": "3.7.3"
  }
 },
 "nbformat": 4,
 "nbformat_minor": 2
}
