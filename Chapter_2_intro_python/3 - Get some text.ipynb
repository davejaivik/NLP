{
 "cells": [
  {
   "cell_type": "markdown",
   "metadata": {},
   "source": [
    "## Get some text\n",
    "\n",
    "A lot of the nitty-gritty work of NLP, particularly preprocessing, involves simple text processing so it's essential to know how to manipulate text in Python.\n",
    "\n",
    "The first thing to do in text processing is get some text! There are many ways we can do this:\n",
    "\n",
    "* from console input\n",
    "* from a file\n",
    "* use NLTK corpus\n",
    "* from the web\n",
    "\n",
    "As with any programming language, there are always many ways to accomplish the same thing. The goal here is to show a few ways, you will learn your own favorite techniques as you go.\n",
    "\n",
    "### Text from console input\n",
    "\n",
    "Use the input() function to prompt the user for input and return the input."
   ]
  },
  {
   "cell_type": "code",
   "execution_count": 1,
   "metadata": {},
   "outputs": [
    {
     "name": "stdout",
     "output_type": "stream",
     "text": [
      "Enter some text: the\n",
      "You entered:  the\n"
     ]
    }
   ],
   "source": [
    "raw_text = input(\"Enter some text: \")\n",
    "print(\"You entered: \", raw_text)"
   ]
  },
  {
   "cell_type": "markdown",
   "metadata": {},
   "source": [
    "### Read a file\n",
    "\n",
    "* open a file for reading, 'r', that is in the same directory\n",
    "* read with the read() function\n",
    "* close the file"
   ]
  },
  {
   "cell_type": "code",
   "execution_count": 1,
   "metadata": {
    "scrolled": true
   },
   "outputs": [
    {
     "name": "stdout",
     "output_type": "stream",
     "text": [
      "You read:\n",
      " Natural language processing (NLP) is a field of computer science, artificial intelligence and computational linguistics concerned with the interactions between computers and human (natural) languages, and, in particular, concerned with programming computers to fruitfully process large natural language corpora. Challenges in natural language processing frequently involve natural language understanding, natural language generation (frequently from formal, machine-readable logical forms), connecting language and machine perception, managing human-computer dialog systems, or some combination thereof.\n",
      "Source: https://en.wikipedia.org/wiki/Natural_language_processing\n"
     ]
    }
   ],
   "source": [
    "f = open('sample1.txt','r') \n",
    "text = f.read()\n",
    "print('You read:\\n', text)\n",
    "f.close()"
   ]
  },
  {
   "cell_type": "markdown",
   "metadata": {},
   "source": [
    "### Read a line at a time\n",
    "\n",
    "The following code shows a *for* loop to process one line at a time."
   ]
  },
  {
   "cell_type": "code",
   "execution_count": 2,
   "metadata": {},
   "outputs": [
    {
     "name": "stdout",
     "output_type": "stream",
     "text": [
      "Natural language processing (NLP) is a field of computer science, artificial intelligence and computational linguistics concerned with the interactions between computers and human (natural) languages, and, in particular, concerned with programming computers to fruitfully process large natural language corpora. Challenges in natural language processing frequently involve natural language understanding, natural language generation (frequently from formal, machine-readable logical forms), connecting language and machine perception, managing human-computer dialog systems, or some combination thereof.\n",
      "\n",
      "Source: https://en.wikipedia.org/wiki/Natural_language_processing\n"
     ]
    }
   ],
   "source": [
    "f = open('sample1.txt', 'r')\n",
    "for line in f:\n",
    "    print(line)\n",
    "f.close()"
   ]
  },
  {
   "cell_type": "markdown",
   "metadata": {},
   "source": [
    "### Using \"with\"\n",
    "\n",
    "The *with* statement starts a block of code. When we are through with the block of code, Python will close the file automatically."
   ]
  },
  {
   "cell_type": "code",
   "execution_count": 6,
   "metadata": {},
   "outputs": [
    {
     "name": "stdout",
     "output_type": "stream",
     "text": [
      "You read:\n",
      " Natural language processing (NLP) is a field of computer science, artificial intelligence and computational linguistics concerned with the interactions between computers and human (natural) languages, and, in particular, concerned with programming computers to fruitfully process large natural language corpora. Challenges in natural language processing frequently involve natural language understanding, natural language generation (frequently from formal, machine-readable logical forms), connecting language and machine perception, managing human-computer dialog systems, or some combination thereof.\n",
      "Source: https://en.wikipedia.org/wiki/Natural_language_processing\n"
     ]
    }
   ],
   "source": [
    "with open('sample1.txt', 'r') as f:\n",
    "    text = f.read()\n",
    "print(\"You read:\\n\", text)"
   ]
  },
  {
   "cell_type": "markdown",
   "metadata": {},
   "source": [
    "### Encoding\n",
    "\n",
    "Encoding used to be a pain in Python 2 but is less of a problem in Python 3, which uses utf-8 by default. However, you can specify the encoding if you need to. The strip() function removes newlines."
   ]
  },
  {
   "cell_type": "code",
   "execution_count": 3,
   "metadata": {},
   "outputs": [
    {
     "name": "stdout",
     "output_type": "stream",
     "text": [
      "Natural language processing (NLP) is a field of computer science, artificial intelligence and computational linguistics concerned with the interactions between computers and human (natural) languages, and, in particular, concerned with programming computers to fruitfully process large natural language corpora. Challenges in natural language processing frequently involve natural language understanding, natural language generation (frequently from formal, machine-readable logical forms), connecting language and machine perception, managing human-computer dialog systems, or some combination thereof.\n",
      "Source: https://en.wikipedia.org/wiki/Natural_language_processing\n"
     ]
    }
   ],
   "source": [
    "with open('sample1.txt', 'r', encoding='utf-8') as f:\n",
    "    for line in f:\n",
    "        print(line.strip())"
   ]
  },
  {
   "cell_type": "markdown",
   "metadata": {},
   "source": [
    "### Get text from the web\n",
    "\n",
    "The urllib library contains functions to handle urls. Below we read text from a web page."
   ]
  },
  {
   "cell_type": "code",
   "execution_count": 4,
   "metadata": {},
   "outputs": [
    {
     "data": {
      "text/plain": [
       "'\\ufeffThe Project Gutenberg EBook of Crime and Punishment, by Fyodor Dostoevsky\\r\\n\\r\\nThis eBook is for the use of anyone anywhere at no cost and with\\r\\nalmost no restrictions whatsoever.  You may copy it, give it away or\\r\\nre-use it under the terms of the Project Gutenberg License included\\r\\nwith this eBook or online at www.gutenberg.org\\r\\n\\r\\n\\r\\nTitle: Crime and Punishment\\r\\n\\r\\nAuthor: Fyodor Dostoevsky\\r\\n\\r\\nRelease Date: March 28, 2006 [EBook #2554]\\r\\nLast Updated: October 27, 2016\\r\\n\\r\\nLanguage: English\\r\\n\\r\\nCharacter set encoding: UTF-8\\r\\n\\r\\n*** START OF THIS PROJECT GUTENBERG EBOOK CRIME AND PUNISHMENT ***\\r\\n\\r\\n\\r\\n\\r\\n\\r\\nProduced by John Bickers; and Dagny\\r\\n\\r\\n\\r\\n\\r\\n\\r\\n\\r\\nCRIME AND PUNISHMENT\\r\\n\\r\\nBy Fyodor Dostoevsky\\r\\n\\r\\n\\r\\n\\r\\nTranslated By Constance Garnett\\r\\n\\r\\n\\r\\n\\r\\n\\r\\nTRANSLATOR’S PREFACE\\r\\n\\r\\nA few words about Dostoevsky himself may help the English reader to\\r\\nunderstand his work.\\r\\n\\r\\nDostoevsky was the son of a doctor. His parents were very hard-working\\r\\nand deeply religious people, but so poor that they lived with their '"
      ]
     },
     "execution_count": 4,
     "metadata": {},
     "output_type": "execute_result"
    }
   ],
   "source": [
    "from urllib import request\n",
    "url = \"http://www.gutenberg.org/files/2554/2554-0.txt\"\n",
    "crime = request.urlopen(url).read().decode('utf8')\n",
    "crime[:1000]"
   ]
  },
  {
   "cell_type": "markdown",
   "metadata": {},
   "source": [
    "### Get NLTK corpus text\n",
    "\n",
    "The following assumes that nltk has been installed as well as the corpora."
   ]
  },
  {
   "cell_type": "code",
   "execution_count": 5,
   "metadata": {
    "scrolled": true
   },
   "outputs": [
    {
     "data": {
      "text/plain": [
       "'[Moby Dick by Herman Melville 1851]\\n\\n\\nETYMOLOGY.\\n\\n(Supplied by a Late Consumptive Usher to a Grammar'"
      ]
     },
     "execution_count": 5,
     "metadata": {},
     "output_type": "execute_result"
    }
   ],
   "source": [
    "import nltk\n",
    "path = nltk.data.find('corpora/gutenberg/melville-moby_dick.txt')\n",
    "moby = open(path, 'r').read()\n",
    "moby[:100]"
   ]
  },
  {
   "cell_type": "markdown",
   "metadata": {},
   "source": [
    "There are also Python libraries to read pdf, RSS, and more. You can discover these on your own as needed.\n",
    "\n"
   ]
  },
  {
   "cell_type": "code",
   "execution_count": null,
   "metadata": {
    "collapsed": true
   },
   "outputs": [],
   "source": []
  }
 ],
 "metadata": {
  "kernelspec": {
   "display_name": "Python 3",
   "language": "python",
   "name": "python3"
  },
  "language_info": {
   "codemirror_mode": {
    "name": "ipython",
    "version": 3
   },
   "file_extension": ".py",
   "mimetype": "text/x-python",
   "name": "python",
   "nbconvert_exporter": "python",
   "pygments_lexer": "ipython3",
   "version": "3.7.3"
  }
 },
 "nbformat": 4,
 "nbformat_minor": 2
}
