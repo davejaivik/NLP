{
 "cells": [
  {
   "cell_type": "markdown",
   "metadata": {
    "collapsed": true
   },
   "source": [
    "## Lists\n",
    "\n",
    "Like strings, Python lists are sequence types. A list is an ordered collection of objects. The elements of a list can by any type of object, including other lists.\n",
    "\n",
    "Lists use square brackets [] and are mutable (unlike strings). We can modify a list in place.\n",
    "\n",
    "### Lists\n",
    "\n",
    "We use lists extensively in Python programming, and there are many built-in methods that operate on lists. \n",
    "\n",
    "The += operator can be used to add a new element to the end of a list, while the + operator can join two lists.\n",
    "\n",
    "By the way, make sure you don't overwrite 'list' - even though it is a reserved word, Python will let you do this:  list = [1,2,3] and then method list() is gone (at least during your program execution)."
   ]
  },
  {
   "cell_type": "code",
   "execution_count": 1,
   "metadata": {},
   "outputs": [
    {
     "name": "stdout",
     "output_type": "stream",
     "text": [
      "listab length =  6\n",
      "listab length =  9\n"
     ]
    }
   ],
   "source": [
    "lista = [1, 2, 3]     # create a list with a literal\n",
    "listb = list(range(4,7))  # create a list with list()\n",
    "listab = lista + listb\n",
    "print('listab length = ', len(listab))\n",
    "listab += [7]   # add one element\n",
    "listab += [8, 9] # add many elements\n",
    "print('listab length = ', len(listab))\n"
   ]
  },
  {
   "cell_type": "markdown",
   "metadata": {},
   "source": [
    "The **for-in** and **in** constructs work well with lists. The **in** construct returns boolean True or False. The **for in** loop is typically favored over counting-for loops or while loops.\n",
    "\n",
    "The **for-in** below iterates through each element in the list. "
   ]
  },
  {
   "cell_type": "code",
   "execution_count": 2,
   "metadata": {
    "scrolled": true
   },
   "outputs": [
    {
     "name": "stdout",
     "output_type": "stream",
     "text": [
      "Hello Jim\n",
      "Hello Hamed\n",
      "Hello Charlotte\n"
     ]
    }
   ],
   "source": [
    "friends = ['Jim', 'Hamed', 'Charlotte']\n",
    "\n",
    "for friend in friends:\n",
    "    print('Hello', friend)"
   ]
  },
  {
   "cell_type": "markdown",
   "metadata": {},
   "source": [
    "### index()\n",
    "\n",
    "The index() method to find the list index."
   ]
  },
  {
   "cell_type": "code",
   "execution_count": 3,
   "metadata": {},
   "outputs": [
    {
     "name": "stdout",
     "output_type": "stream",
     "text": [
      "Charlotte  is my friend.\n"
     ]
    }
   ],
   "source": [
    "if 'Charlotte' in friends:\n",
    "    print(friends[friends.index('Charlotte')], ' is my friend.')"
   ]
  },
  {
   "cell_type": "markdown",
   "metadata": {
    "collapsed": true
   },
   "source": [
    "By the way, these **for-in** and **in** constructs also work on strings, and they work on tuples which are discussed later in this notebook. "
   ]
  },
  {
   "cell_type": "code",
   "execution_count": 4,
   "metadata": {},
   "outputs": [
    {
     "name": "stdout",
     "output_type": "stream",
     "text": [
      "e  is in word friend\n",
      "i  is in word friend\n"
     ]
    }
   ],
   "source": [
    "for letter in 'aeiou':\n",
    "    if letter in 'friend':\n",
    "        print(letter, ' is in word friend')"
   ]
  },
  {
   "cell_type": "markdown",
   "metadata": {
    "collapsed": true
   },
   "source": [
    "### sort(), sorted() and reverse()\n",
    "\n",
    "The sort() method sorts a list in place, returning None, whereas the sorted() method returns a new sorted list. The reverse() method reverses the list in place, returning None."
   ]
  },
  {
   "cell_type": "code",
   "execution_count": 5,
   "metadata": {},
   "outputs": [
    {
     "name": "stdout",
     "output_type": "stream",
     "text": [
      "Charlotte\n",
      "Hamed\n",
      "Jim\n",
      "after sorted(): Jim Hamed Charlotte\n",
      "after sort(): Charlotte Hamed Jim\n",
      "after reverse(): Jim Hamed Charlotte\n"
     ]
    }
   ],
   "source": [
    "for friend in sorted(friends):\n",
    "    print(friend)\n",
    "print('after sorted():',' '.join(friends))\n",
    "friends.sort()\n",
    "print('after sort():', ' '.join(friends))\n",
    "friends.reverse()\n",
    "print('after reverse():', ' '.join(friends))"
   ]
  },
  {
   "cell_type": "markdown",
   "metadata": {
    "collapsed": true
   },
   "source": [
    "### insert(), append(), remove(), and pop()\n",
    "\n",
    "We can modify a list by inserting elements at a given place in the list, appending elements to the end of the list, removing elements, or popping elements off the list from either the front or the end of the list."
   ]
  },
  {
   "cell_type": "code",
   "execution_count": 6,
   "metadata": {},
   "outputs": [
    {
     "name": "stdout",
     "output_type": "stream",
     "text": [
      "point 1: apple banana orange\n",
      "point 2: peach apple banana orange\n",
      "point 3: peach apple banana orange pear\n",
      "point 4: peach banana orange pear\n",
      "point 5: peach banana orange after popping pear\n",
      "point 6: banana orange after popping peach\n"
     ]
    }
   ],
   "source": [
    "fruits = ['apple', 'banana', 'orange']\n",
    "print('point 1:', ' '.join(fruits))\n",
    "fruits.insert(0, 'peach')        # insert at position 0\n",
    "print('point 2:', ' '.join(fruits))\n",
    "fruits.append('pear')\n",
    "print('point 3:', ' '.join(fruits))\n",
    "if 'apple' in fruits:\n",
    "    fruits.remove('apple')    # throws error if not in list\n",
    "print('point 4:', ' '.join(fruits))\n",
    "fr = fruits.pop()\n",
    "print('point 5:', ' '.join(fruits), 'after popping', fr)\n",
    "fr = fruits.pop(0)\n",
    "print('point 6:', ' '.join(fruits), 'after popping', fr)"
   ]
  },
  {
   "cell_type": "markdown",
   "metadata": {
    "collapsed": true
   },
   "source": [
    "### Efficiency in lists and timeit()\n",
    "\n",
    "Lists are very efficient constructs in Python but we should keep in mind how to best use lists efficiently.\n",
    "\n",
    "The timeit module is helpful for quantifying efficiency comparisons. \n",
    "First we make a long list and pop off the top of the list.\n",
    "Then we make the list again and pop off the bottom of the list.\n",
    "\n",
    "Noticing that popping off the end of the list is *much* more efficient compared to popping off the front of the list."
   ]
  },
  {
   "cell_type": "code",
   "execution_count": 7,
   "metadata": {},
   "outputs": [
    {
     "name": "stdout",
     "output_type": "stream",
     "text": [
      "time =  2.120566545985639\n",
      "time2 =  0.016063540009781718\n"
     ]
    }
   ],
   "source": [
    "import timeit\n",
    "\n",
    "long_list = list(range(1,100000))  # about 100K elements\n",
    "start_time = timeit.default_timer()\n",
    "while long_list:\n",
    "    long_list.pop(0)\n",
    "print(\"time = \", timeit.default_timer() - start_time)\n",
    "\n",
    "long_list = list(range(1,100000))\n",
    "start_time = timeit.default_timer()\n",
    "while long_list:\n",
    "    long_list.pop()\n",
    "print(\"time2 = \", timeit.default_timer() - start_time)"
   ]
  },
  {
   "cell_type": "markdown",
   "metadata": {
    "collapsed": true
   },
   "source": [
    "### slices\n",
    "\n",
    "List slices work just like string slices.\n"
   ]
  },
  {
   "cell_type": "code",
   "execution_count": 8,
   "metadata": {},
   "outputs": [
    {
     "name": "stdout",
     "output_type": "stream",
     "text": [
      "[1, 2, 3, 4, 5]\n",
      "[96, 97, 98, 99, 100]\n",
      "[3, 4, 5]\n"
     ]
    }
   ],
   "source": [
    "list1 = list(range(1,101))\n",
    "print(list1[:5])   # first elements\n",
    "print(list1[95:])  # last elements\n",
    "print(list1[2:5])  # middle elements"
   ]
  },
  {
   "cell_type": "markdown",
   "metadata": {
    "collapsed": true
   },
   "source": [
    "### len() and using slice notation to copy or clear a list\n",
    "\n",
    "* the len() function returns the length\n",
    "* list[:] creates a copy of the list\n",
    "* del a[:] clears a list\n",
    "\n"
   ]
  },
  {
   "cell_type": "code",
   "execution_count": 9,
   "metadata": {},
   "outputs": [
    {
     "name": "stdout",
     "output_type": "stream",
     "text": [
      "100\n",
      "len of list 1 is still =  100\n",
      "0\n"
     ]
    }
   ],
   "source": [
    "list2 = list1[:]   # same as list2 = list1.copy()\n",
    "print(len(list2))\n",
    "del list2[:]\n",
    "print(\"len of list 1 is still = \", len(list1))\n",
    "print(len(list2))"
   ]
  },
  {
   "cell_type": "markdown",
   "metadata": {
    "collapsed": true
   },
   "source": [
    "### list comprehensions\n",
    "\n",
    "List comprehensions provide a concise way to perform operations on lists. A list comprehension consists of brackets containing an expression followed by a for, and optionally followed by ifs.\n",
    "\n",
    "The following code shows two ways to square each integer in the range 1 to 5.\n"
   ]
  },
  {
   "cell_type": "code",
   "execution_count": 10,
   "metadata": {},
   "outputs": [
    {
     "name": "stdout",
     "output_type": "stream",
     "text": [
      "25\n",
      "25\n"
     ]
    }
   ],
   "source": [
    "# method 1: use a for loop\n",
    "squares = []\n",
    "for i in range(1,6):   # 1, 2, 3, 4, 5\n",
    "    squares.append(i**2)\n",
    "print(squares[-1])\n",
    "    \n",
    "# method 2: use list comprehension\n",
    "squares = [i**2 for i in range(1,6)]\n",
    "print(squares[-1])"
   ]
  },
  {
   "cell_type": "markdown",
   "metadata": {
    "collapsed": true
   },
   "source": [
    "The following list comprehension creates a list of lists."
   ]
  },
  {
   "cell_type": "code",
   "execution_count": 11,
   "metadata": {},
   "outputs": [
    {
     "data": {
      "text/plain": [
       "[[1, 1], [2, 4], [3, 9]]"
      ]
     },
     "execution_count": 11,
     "metadata": {},
     "output_type": "execute_result"
    }
   ],
   "source": [
    "int_sq = [[x, x**2] for x in [1, 2, 3] ]\n",
    "int_sq"
   ]
  },
  {
   "cell_type": "markdown",
   "metadata": {
    "collapsed": true
   },
   "source": [
    "Having more than one **for** works just like nested for loops."
   ]
  },
  {
   "cell_type": "code",
   "execution_count": 12,
   "metadata": {},
   "outputs": [
    {
     "data": {
      "text/plain": [
       "[[1, 'a'], [1, 'b'], [1, 'c'], [2, 'a'], [2, 'b'], [2, 'c']]"
      ]
     },
     "execution_count": 12,
     "metadata": {},
     "output_type": "execute_result"
    }
   ],
   "source": [
    "listxy = [[x, y] for x in [1, 2] for y in ['a', 'b', 'c']]\n",
    "listxy"
   ]
  },
  {
   "cell_type": "markdown",
   "metadata": {
    "collapsed": true
   },
   "source": [
    "The following shows an example using the **if** clause. "
   ]
  },
  {
   "cell_type": "code",
   "execution_count": 13,
   "metadata": {},
   "outputs": [
    {
     "data": {
      "text/plain": [
       "[[1, 1], [2, 4], [3, 9], [4, 16], [5, 25], [6, 36], [7, 49], [8, 64], [9, 81]]"
      ]
     },
     "execution_count": 13,
     "metadata": {},
     "output_type": "execute_result"
    }
   ],
   "source": [
    "list_small_squares = [[x, x**2] for x in list(range(1,12)) if x**2 < 100]\n",
    "list_small_squares"
   ]
  },
  {
   "cell_type": "markdown",
   "metadata": {
    "collapsed": true
   },
   "source": [
    "### Practice\n",
    "\n",
    "* Make a list from the individual words in a sentence. Print the tokens in order. \n",
    "* then print the tokens in reverse order\n",
    "* then print the tokens that start with a certain letter or set of letters"
   ]
  },
  {
   "cell_type": "code",
   "execution_count": 24,
   "metadata": {},
   "outputs": [
    {
     "name": "stdout",
     "output_type": "stream",
     "text": [
      "Tokens in order:\n",
      "This\n",
      "is\n",
      "a\n",
      "sample\n",
      "sentence\n",
      "\n",
      "Tokens in reverse order:\n",
      "sentence\n",
      "sample\n",
      "a\n",
      "is\n",
      "This\n",
      "\n",
      "Tokens that start with s:\n",
      "sample\n",
      "sentence\n"
     ]
    }
   ],
   "source": [
    "text = 'This is a sample sentence'\n",
    "\n",
    "print(\"Tokens in order:\")\n",
    "tokens = text.split()\n",
    "for token in tokens:\n",
    "    print(token)\n",
    "\n",
    "print(\"\\nTokens in reverse order:\")\n",
    "i = len(tokens) - 1\n",
    "while i >= 0:\n",
    "    print(tokens[i])\n",
    "    i -= 1\n",
    "    \n",
    "print(\"\\nTokens that start with s:\")\n",
    "for token in tokens:\n",
    "    if token[0] in ['S','s']:\n",
    "        print(token)"
   ]
  },
  {
   "cell_type": "markdown",
   "metadata": {
    "collapsed": true
   },
   "source": [
    "### deepcopy() a list\n",
    "\n",
    "When we copy a list of lists some strange results may occur.\n",
    "\n",
    "To avoid the problem in example 1 below, we use deepcopy."
   ]
  },
  {
   "cell_type": "code",
   "execution_count": 25,
   "metadata": {},
   "outputs": [
    {
     "data": {
      "text/plain": [
       "[1, 2, [9, 4], 5]"
      ]
     },
     "execution_count": 25,
     "metadata": {},
     "output_type": "execute_result"
    }
   ],
   "source": [
    "# example 1\n",
    "list1 = [1, 2, [3, 4], 5]\n",
    "list2 = list1\n",
    "list2[2][0] = 9\n",
    "list1  # the sublist in list 1 was changed when list 2 was changed\n"
   ]
  },
  {
   "cell_type": "code",
   "execution_count": 26,
   "metadata": {},
   "outputs": [
    {
     "data": {
      "text/plain": [
       "[1, 2, [3, 4], 5]"
      ]
     },
     "execution_count": 26,
     "metadata": {},
     "output_type": "execute_result"
    }
   ],
   "source": [
    "# example 2\n",
    "from copy import deepcopy\n",
    "list1 = [1, 2, [3, 4], 5]\n",
    "list2 = deepcopy(list1)\n",
    "list2[2][0] = 9\n",
    "list1 # list1 remains unchanged\n"
   ]
  },
  {
   "cell_type": "markdown",
   "metadata": {},
   "source": [
    "How can we explain the behavior in example 1? This happened because when we did the copy (often called *shallow copy*), it copied each element and a pointer to the list within the list. \n",
    "\n",
    "Here is [a good explanation of this](www.python-course.eu/python3_deep_copy.php)"
   ]
  },
  {
   "cell_type": "code",
   "execution_count": null,
   "metadata": {
    "collapsed": true
   },
   "outputs": [],
   "source": []
  }
 ],
 "metadata": {
  "kernelspec": {
   "display_name": "Python 3",
   "language": "python",
   "name": "python3"
  },
  "language_info": {
   "codemirror_mode": {
    "name": "ipython",
    "version": 3
   },
   "file_extension": ".py",
   "mimetype": "text/x-python",
   "name": "python",
   "nbconvert_exporter": "python",
   "pygments_lexer": "ipython3",
   "version": "3.7.3"
  }
 },
 "nbformat": 4,
 "nbformat_minor": 2
}
