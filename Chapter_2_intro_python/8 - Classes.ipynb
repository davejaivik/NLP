{
 "cells": [
  {
   "cell_type": "markdown",
   "metadata": {
    "collapsed": true
   },
   "source": [
    "# Choose a paradigm\n",
    "\n",
    "Python works well with procedural, object oriented, or functional programming paradigms. In this notebook we take a look at Python classes. This is a very brief overview. A good starting point to learn more is Jeff Knupp's blog post:\n",
    "\n",
    "[Python classes](https://jeffknupp.com/blog/2014/06/18/improve-your-python-python-classes-and-object-oriented-programming/)\n",
    "\n",
    "## Python classes\n",
    "\n",
    "A Python class is simply a logical grouping of data and functions (aka methods).  As in other languages, a class is a blueprint for creating objects. \n",
    "\n",
    "The following code defines a class called Sentence which holds the sentence number, text, tokens, and parts of speech. Each class definition should include an __init__ method whose first argument will always be 'self' and the remaining arguments (if any) are items the class needs to define itself. The 'self' you see in the code below is just a reference to the particular instance of the class currently being processed.\n",
    "\n",
    "The following code also shows a simple display method to demonstrate further use of a class method.\n",
    "\n"
   ]
  },
  {
   "cell_type": "code",
   "execution_count": 1,
   "metadata": {
    "collapsed": true
   },
   "outputs": [],
   "source": [
    "import nltk\n",
    "from nltk import word_tokenize\n",
    "class Sentence:\n",
    "    def __init__(self, sentence_number, text):\n",
    "        self.sentence_number = sentence_number\n",
    "        self.text = text\n",
    "        self.tokens = word_tokenize(self.text)\n",
    "        self.pos = nltk.pos_tag(self.tokens)\n",
    "        \n",
    "    def display(self):\n",
    "        print('\\nSentence number: ', self.sentence_number)\n",
    "        print('Text: ', self.text)\n",
    "        print('POS: ', self.pos)"
   ]
  },
  {
   "cell_type": "markdown",
   "metadata": {
    "collapsed": true
   },
   "source": [
    "Now that we have defined a class, we can use it in our code. the following code iterates over the raw text in 'input_text'. For each text it creates a sentence object and stores the reference to that object in a list.\n",
    "\n",
    "Later we iterate over the sentence objects in that list just to show how that's done."
   ]
  },
  {
   "cell_type": "code",
   "execution_count": 2,
   "metadata": {},
   "outputs": [
    {
     "name": "stdout",
     "output_type": "stream",
     "text": [
      "\n",
      "Sentence number:  1\n",
      "Text:  Yesterday I went to the movies.\n",
      "POS:  [('Yesterday', 'NN'), ('I', 'PRP'), ('went', 'VBD'), ('to', 'TO'), ('the', 'DT'), ('movies', 'NNS'), ('.', '.')]\n",
      "\n",
      "Sentence number:  2\n",
      "Text:  Today I am going for a hike.\n",
      "POS:  [('Today', 'NN'), ('I', 'PRP'), ('am', 'VBP'), ('going', 'VBG'), ('for', 'IN'), ('a', 'DT'), ('hike', 'NN'), ('.', '.')]\n"
     ]
    }
   ],
   "source": [
    "input_text = ['Yesterday I went to the movies.', 'Today I am going for a hike.']\n",
    "sentences = []   # a list of sentences\n",
    "sentence_number = 1\n",
    "for text in input_text:\n",
    "    s = Sentence(sentence_number, text)\n",
    "    sentences.append(s)\n",
    "    sentence_number += 1\n",
    "    \n",
    "for s in sentences:\n",
    "    s.display()\n",
    "\n"
   ]
  },
  {
   "cell_type": "markdown",
   "metadata": {
    "collapsed": true
   },
   "source": [
    "Full object-oriented programming with Python is of course a vast subject that we will not cover in class since it's only one of many ways to write Python code for NLP. What is useful however in any programming paradigm are classes and objects because these help organize our code logically, and we can easily pass objects to functions. For example, if we had a function called process_sentence, we could pass a Sentence s to is as follows:\n",
    "\n",
    "process_sentence(s)\n",
    "\n",
    "So the function receives a pointer to the Sentence object 's' and will know that it is a Sentence object. "
   ]
  },
  {
   "cell_type": "code",
   "execution_count": null,
   "metadata": {
    "collapsed": true
   },
   "outputs": [],
   "source": []
  }
 ],
 "metadata": {
  "kernelspec": {
   "display_name": "Python 3",
   "language": "python",
   "name": "python3"
  },
  "language_info": {
   "codemirror_mode": {
    "name": "ipython",
    "version": 3
   },
   "file_extension": ".py",
   "mimetype": "text/x-python",
   "name": "python",
   "nbconvert_exporter": "python",
   "pygments_lexer": "ipython3",
   "version": "3.7.3"
  }
 },
 "nbformat": 4,
 "nbformat_minor": 2
}
